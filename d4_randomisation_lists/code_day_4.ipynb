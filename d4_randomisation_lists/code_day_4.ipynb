{
  "cells": [
    {
      "cell_type": "markdown",
      "metadata": {
        "id": "Bs-vB57uHtjg"
      },
      "source": [
        "### Random Module"
      ]
    },
    {
      "cell_type": "code",
      "execution_count": 3,
      "metadata": {
        "id": "GgYrMOkZG7G_"
      },
      "outputs": [],
      "source": [
        "import random"
      ]
    },
    {
      "cell_type": "code",
      "execution_count": null,
      "metadata": {
        "colab": {
          "base_uri": "https://localhost:8080/"
        },
        "id": "b74goaQYHpRd",
        "outputId": "dfba1db5-701c-4807-d315-56041524c515"
      },
      "outputs": [
        {
          "name": "stdout",
          "output_type": "stream",
          "text": [
            "3\n"
          ]
        }
      ],
      "source": [
        "random_integer = random.randint(1, 10)\n",
        "print(random_integer)"
      ]
    },
    {
      "cell_type": "code",
      "execution_count": null,
      "metadata": {
        "colab": {
          "base_uri": "https://localhost:8080/"
        },
        "id": "wVd_P71RHyXf",
        "outputId": "1cc1c260-173f-49bc-cdfa-0b279438a40b"
      },
      "outputs": [
        {
          "name": "stdout",
          "output_type": "stream",
          "text": [
            "0.7591707204293183\n"
          ]
        }
      ],
      "source": [
        "random_float = random.random()\n",
        "print(random_float)"
      ]
    },
    {
      "cell_type": "markdown",
      "metadata": {
        "id": "Et34o8SSId6M"
      },
      "source": [
        "random float will start from 0.000000 - 0.999999"
      ]
    },
    {
      "cell_type": "markdown",
      "metadata": {
        "id": "TCzXhp7hILct"
      },
      "source": [
        "how to create random float number between 1 - 10"
      ]
    },
    {
      "cell_type": "code",
      "execution_count": null,
      "metadata": {
        "colab": {
          "base_uri": "https://localhost:8080/"
        },
        "id": "6yBV4cUyIFEk",
        "outputId": "06533800-8670-4efc-de35-0bb8a3844475"
      },
      "outputs": [
        {
          "name": "stdout",
          "output_type": "stream",
          "text": [
            "1.719784189675856\n"
          ]
        }
      ],
      "source": [
        "randomFloat = random.random() * 5\n",
        "print(randomFloat)"
      ]
    },
    {
      "cell_type": "markdown",
      "metadata": {
        "id": "ZVwi1fGvIrVx"
      },
      "source": [
        "code above will multiple 5 with random 0.0000 - 0.999999, and the result will not include 5"
      ]
    },
    {
      "cell_type": "code",
      "execution_count": null,
      "metadata": {
        "colab": {
          "base_uri": "https://localhost:8080/"
        },
        "id": "DP0YdR0jIpwM",
        "outputId": "2aa80d85-118a-41d3-b1d7-898d6535e91b"
      },
      "outputs": [
        {
          "name": "stdout",
          "output_type": "stream",
          "text": [
            "Your love score is 24\n"
          ]
        }
      ],
      "source": [
        "love_score = random.randint(1,100)\n",
        "print(f\"Your love score is {love_score}\")"
      ]
    },
    {
      "cell_type": "markdown",
      "metadata": {
        "id": "pinhCDbnJElp"
      },
      "source": [
        "### Understanding the Offset and Appending Items to Lists"
      ]
    },
    {
      "cell_type": "code",
      "execution_count": null,
      "metadata": {
        "id": "ZO8E9l4oJfCk"
      },
      "outputs": [],
      "source": [
        "states_of_america = [\"Delaware\", \"Pennsylvania\", \"New Jersey\", \"Georgia\", \"Connecticut\", \"Massachusetts\", \"Maryland\", \"South Carolina\", \"New Hampshire\"]"
      ]
    },
    {
      "cell_type": "code",
      "execution_count": null,
      "metadata": {
        "colab": {
          "base_uri": "https://localhost:8080/"
        },
        "id": "NYNozkcAJn86",
        "outputId": "caa374f6-8db4-41b2-96ee-941562992673"
      },
      "outputs": [
        {
          "name": "stdout",
          "output_type": "stream",
          "text": [
            "Pennsylvania\n"
          ]
        }
      ],
      "source": [
        "print(states_of_america[1])"
      ]
    },
    {
      "cell_type": "code",
      "execution_count": null,
      "metadata": {
        "colab": {
          "base_uri": "https://localhost:8080/"
        },
        "id": "SzOPvFNfJx2W",
        "outputId": "fa3fa0a6-f120-43d6-a8c6-6794c919aea1"
      },
      "outputs": [
        {
          "name": "stdout",
          "output_type": "stream",
          "text": [
            "South Carolina\n"
          ]
        }
      ],
      "source": [
        "print(states_of_america[-2])"
      ]
    },
    {
      "cell_type": "code",
      "execution_count": null,
      "metadata": {
        "id": "ihSZACg8J8tA"
      },
      "outputs": [],
      "source": [
        "states_of_america.append(\"Garut\")"
      ]
    },
    {
      "cell_type": "code",
      "execution_count": null,
      "metadata": {
        "colab": {
          "base_uri": "https://localhost:8080/"
        },
        "id": "YvypLAB3KC91",
        "outputId": "c20ea783-7694-4fd1-b597-026a107e0f59"
      },
      "outputs": [
        {
          "name": "stdout",
          "output_type": "stream",
          "text": [
            "['Delaware', 'Pennsylvania', 'New Jersey', 'Georgia', 'Connecticut', 'Massachusetts', 'Maryland', 'South Carolina', 'New Hampshire', 'Garut']\n"
          ]
        }
      ],
      "source": [
        "print(states_of_america)"
      ]
    },
    {
      "cell_type": "code",
      "execution_count": null,
      "metadata": {
        "id": "g2V29xDMKHaK"
      },
      "outputs": [],
      "source": [
        "states_of_america.extend([\"Indonesia\", \"Malaysia\"])"
      ]
    },
    {
      "cell_type": "code",
      "execution_count": null,
      "metadata": {
        "colab": {
          "base_uri": "https://localhost:8080/"
        },
        "id": "6KpZarYgKLT3",
        "outputId": "742f4878-328c-42e9-b2c5-2862db1e198d"
      },
      "outputs": [
        {
          "name": "stdout",
          "output_type": "stream",
          "text": [
            "['Delaware', 'Pennsylvania', 'New Jersey', 'Georgia', 'Connecticut', 'Massachusetts', 'Maryland', 'South Carolina', 'New Hampshire', 'Garut', 'Indonesia', 'Malaysia']\n"
          ]
        }
      ],
      "source": [
        "print(states_of_america)"
      ]
    },
    {
      "cell_type": "code",
      "execution_count": null,
      "metadata": {
        "colab": {
          "base_uri": "https://localhost:8080/"
        },
        "id": "FQ1cT1dpI-_U",
        "outputId": "8930b8dd-8449-4283-8a23-3a22e22a427f"
      },
      "outputs": [
        {
          "name": "stdout",
          "output_type": "stream",
          "text": [
            "['Delaware', 'Pennsylvania', 'New Jersey', 'Connecticut']\n"
          ]
        }
      ],
      "source": [
        "state1 = \"Delaware\"\n",
        "state2 = \"Pennsylvania\"\n",
        "state3 = \"New Jersey\"\n",
        "state4 = \"Connecticut\"\n",
        "\n",
        "states = [state1, state2, state3, state4]\n",
        "print(states)"
      ]
    },
    {
      "cell_type": "markdown",
      "metadata": {},
      "source": [
        "### Index Error and Working with Nested Lists"
      ]
    },
    {
      "cell_type": "code",
      "execution_count": 1,
      "metadata": {},
      "outputs": [],
      "source": [
        "states_of_america = [\"Delaware\", \"Pennsylvania\", \"New Jersey\", \"Georgia\", \"Connecticut\", \"Massachusetts\", \"Maryland\", \"South Carolina\", \"New Hampshire\"]"
      ]
    },
    {
      "cell_type": "code",
      "execution_count": 2,
      "metadata": {},
      "outputs": [
        {
          "name": "stdout",
          "output_type": "stream",
          "text": [
            "New Hampshire\n"
          ]
        }
      ],
      "source": [
        "num_of_states = len(states_of_america)\n",
        "print(states_of_america[num_of_states-1])"
      ]
    },
    {
      "cell_type": "code",
      "execution_count": 3,
      "metadata": {},
      "outputs": [],
      "source": [
        "fruits = ['Strawberries', 'Nectarines', 'Apples', 'Grapes', 'Peaches', 'Cherries', 'Pears']\n",
        "vegetables = ['Spinach', 'Kale', 'Tomatoes', 'Celery', 'Potatoes']"
      ]
    },
    {
      "cell_type": "code",
      "execution_count": 5,
      "metadata": {},
      "outputs": [
        {
          "data": {
            "text/plain": [
              "[['Strawberries',\n",
              "  'Nectarines',\n",
              "  'Apples',\n",
              "  'Grapes',\n",
              "  'Peaches',\n",
              "  'Cherries',\n",
              "  'Pears'],\n",
              " ['Spinach', 'Kale', 'Tomatoes', 'Celery', 'Potatoes']]"
            ]
          },
          "execution_count": 5,
          "metadata": {},
          "output_type": "execute_result"
        }
      ],
      "source": [
        "dirty_dozen = [fruits,vegetables]\n",
        "print(dirty_dozen)"
      ]
    },
    {
      "cell_type": "code",
      "execution_count": 6,
      "metadata": {},
      "outputs": [
        {
          "name": "stdout",
          "output_type": "stream",
          "text": [
            "Kale\n"
          ]
        }
      ],
      "source": [
        "print(dirty_dozen[1][1])"
      ]
    },
    {
      "cell_type": "markdown",
      "metadata": {},
      "source": [
        "### **Exercise: Treasure Map**"
      ]
    },
    {
      "cell_type": "markdown",
      "metadata": {},
      "source": [
        "You are going to write a program that will mark a spot on map with an X.\n",
        "\n",
        "In the starting code, you will find a variable called map.\n",
        "\n",
        "This map contains a nested list. When map is printed this is what it looks like, notice the nesting:\n",
        "\n",
        "[['...','...','...'],['...','...','...'],['...','...','...']]\n",
        "\n",
        "This is a bit hard to work with. So on lines 6 and 23, we've used this line of code print(f\"{row1}\\n{row2}\\n{row3}\") to format the 3 lists to be printed as a 3 by 3 grid, each on a new line.\n",
        "\n",
        "['...','...','...']\n",
        "\n",
        "['...','...','...']\n",
        "\n",
        "['...','...','...']\n"
      ]
    },
    {
      "cell_type": "code",
      "execution_count": null,
      "metadata": {},
      "outputs": [],
      "source": []
    },
    {
      "cell_type": "markdown",
      "metadata": {},
      "source": [
        "### **Project: Rock Paper Scissors**"
      ]
    },
    {
      "cell_type": "code",
      "execution_count": 3,
      "metadata": {},
      "outputs": [
        {
          "name": "stdout",
          "output_type": "stream",
          "text": [
            "\n",
            "    _______\n",
            "---'   ____)____\n",
            "          ______)\n",
            "       __________)\n",
            "      (____)\n",
            "---.__(___)\n",
            "\n",
            "Computer chose:\n",
            "\n",
            "    _______\n",
            "---'   ____)____\n",
            "          ______)\n",
            "       __________)\n",
            "      (____)\n",
            "---.__(___)\n",
            "\n",
            "It's a draw\n"
          ]
        }
      ],
      "source": [
        "import random\n",
        "\n",
        "rock = '''\n",
        "    _______\n",
        "---'   ____)\n",
        "      (_____)\n",
        "      (_____)\n",
        "      (____)\n",
        "---.__(___)\n",
        "'''\n",
        "\n",
        "paper = '''\n",
        "    _______\n",
        "---'   ____)____\n",
        "          ______)\n",
        "          _______)\n",
        "         _______)\n",
        "---.__________)\n",
        "'''\n",
        "\n",
        "scissors = '''\n",
        "    _______\n",
        "---'   ____)____\n",
        "          ______)\n",
        "       __________)\n",
        "      (____)\n",
        "---.__(___)\n",
        "'''\n",
        "\n",
        "game_images = [rock, paper, scissors]\n",
        "\n",
        "player_choice = int(input(\"What do you choose? Type 0 for Rock, 1 for Paper or 2 for Scissors.\\n\"))\n",
        "print(game_images[player_choice])\n",
        "\n",
        "computer_choice = random.randint(0, 2)\n",
        "print(\"Computer chose:\")\n",
        "print(game_images[computer_choice])\n",
        "\n",
        "if player_choice >= 3 or player_choice < 0: \n",
        "  print(\"You typed an invalid number, you lose!\") \n",
        "elif player_choice == 0 and computer_choice == 2:\n",
        "  print(\"You win!\")\n",
        "elif computer_choice == 0 and player_choice == 2:\n",
        "  print(\"You lose\")\n",
        "elif computer_choice > player_choice:\n",
        "  print(\"You lose\")\n",
        "elif player_choice > computer_choice:\n",
        "  print(\"You win!\")\n",
        "elif computer_choice == player_choice:\n",
        "  print(\"It's a draw\")"
      ]
    },
    {
      "cell_type": "code",
      "execution_count": null,
      "metadata": {},
      "outputs": [],
      "source": []
    }
  ],
  "metadata": {
    "colab": {
      "collapsed_sections": [
        "C0HlU19ElcVX"
      ],
      "provenance": []
    },
    "kernelspec": {
      "display_name": "Python 3",
      "name": "python3"
    },
    "language_info": {
      "codemirror_mode": {
        "name": "ipython",
        "version": 3
      },
      "file_extension": ".py",
      "mimetype": "text/x-python",
      "name": "python",
      "nbconvert_exporter": "python",
      "pygments_lexer": "ipython3",
      "version": "3.9.6"
    }
  },
  "nbformat": 4,
  "nbformat_minor": 0
}
