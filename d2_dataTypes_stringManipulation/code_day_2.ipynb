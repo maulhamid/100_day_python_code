{
  "cells": [
    {
      "cell_type": "markdown",
      "metadata": {
        "id": "7n_0mK01jf2C"
      },
      "source": [
        "### Primitive Data Types"
      ]
    },
    {
      "cell_type": "code",
      "execution_count": null,
      "metadata": {
        "colab": {
          "base_uri": "https://localhost:8080/",
          "height": 144
        },
        "id": "z0pO824GiuRF",
        "outputId": "b860a8dc-6f18-49fc-fbf2-969e9f14cc1b"
      },
      "outputs": [
        {
          "ename": "TypeError",
          "evalue": "object of type 'int' has no len()",
          "output_type": "error",
          "traceback": [
            "\u001b[0;31m---------------------------------------------------------------------------\u001b[0m",
            "\u001b[0;31mTypeError\u001b[0m                                 Traceback (most recent call last)",
            "\u001b[0;32m<ipython-input-13-a9dcf5b69d99>\u001b[0m in \u001b[0;36m<cell line: 1>\u001b[0;34m()\u001b[0m\n\u001b[0;32m----> 1\u001b[0;31m \u001b[0mprint\u001b[0m\u001b[0;34m(\u001b[0m\u001b[0mlen\u001b[0m\u001b[0;34m(\u001b[0m\u001b[0;36m123412\u001b[0m\u001b[0;34m)\u001b[0m\u001b[0;34m)\u001b[0m\u001b[0;34m\u001b[0m\u001b[0;34m\u001b[0m\u001b[0m\n\u001b[0m",
            "\u001b[0;31mTypeError\u001b[0m: object of type 'int' has no len()"
          ]
        }
      ],
      "source": [
        "print(len(123412))"
      ]
    },
    {
      "cell_type": "markdown",
      "metadata": {
        "id": "8Rj2lzNikDeN"
      },
      "source": [
        "string indexes will start from 0, string indicated with ''"
      ]
    },
    {
      "cell_type": "code",
      "execution_count": null,
      "metadata": {
        "colab": {
          "base_uri": "https://localhost:8080/"
        },
        "id": "gYEgaHXbjt0E",
        "outputId": "48f789b2-ae53-4359-b1f9-1ffea4e67c25"
      },
      "outputs": [
        {
          "name": "stdout",
          "output_type": "stream",
          "text": [
            "!\n"
          ]
        }
      ],
      "source": [
        "#string\n",
        "print('Hello!'[5])"
      ]
    },
    {
      "cell_type": "code",
      "execution_count": null,
      "metadata": {
        "colab": {
          "base_uri": "https://localhost:8080/",
          "height": 144
        },
        "id": "f-qrJoi6kvfF",
        "outputId": "cc03ab0d-cc98-4dbb-dbca-0765afcb753a"
      },
      "outputs": [
        {
          "ename": "TypeError",
          "evalue": "can only concatenate str (not \"int\") to str",
          "output_type": "error",
          "traceback": [
            "\u001b[0;31m---------------------------------------------------------------------------\u001b[0m",
            "\u001b[0;31mTypeError\u001b[0m                                 Traceback (most recent call last)",
            "\u001b[0;32m<ipython-input-18-c26b1f4aceff>\u001b[0m in \u001b[0;36m<cell line: 1>\u001b[0;34m()\u001b[0m\n\u001b[0;32m----> 1\u001b[0;31m \u001b[0mprint\u001b[0m\u001b[0;34m(\u001b[0m\u001b[0;34m'123'\u001b[0m\u001b[0;34m+\u001b[0m\u001b[0;36m456\u001b[0m\u001b[0;34m)\u001b[0m\u001b[0;34m\u001b[0m\u001b[0;34m\u001b[0m\u001b[0m\n\u001b[0m",
            "\u001b[0;31mTypeError\u001b[0m: can only concatenate str (not \"int\") to str"
          ]
        }
      ],
      "source": [
        "print('123'+456)"
      ]
    },
    {
      "cell_type": "code",
      "execution_count": null,
      "metadata": {
        "colab": {
          "base_uri": "https://localhost:8080/"
        },
        "id": "N0yCg7hAkso6",
        "outputId": "63ddd77f-9a32-4e6f-98d6-470b2c52351e"
      },
      "outputs": [
        {
          "name": "stdout",
          "output_type": "stream",
          "text": [
            "123456\n"
          ]
        }
      ],
      "source": [
        "print('123'+'456')"
      ]
    },
    {
      "cell_type": "code",
      "execution_count": null,
      "metadata": {
        "colab": {
          "base_uri": "https://localhost:8080/"
        },
        "id": "bWY1UawLj8cz",
        "outputId": "2bbaa9e5-dac2-4872-8bc5-5ed1f2a23929"
      },
      "outputs": [
        {
          "name": "stdout",
          "output_type": "stream",
          "text": [
            "579\n"
          ]
        }
      ],
      "source": [
        "#integer\n",
        "print(123+456)"
      ]
    },
    {
      "cell_type": "code",
      "execution_count": null,
      "metadata": {
        "colab": {
          "base_uri": "https://localhost:8080/"
        },
        "id": "QfDvk6FpkrTM",
        "outputId": "f9672f33-92b4-4900-9a73-1d77ba3c6548"
      },
      "outputs": [
        {
          "data": {
            "text/plain": [
              "(123, 345, 678)"
            ]
          },
          "execution_count": 19,
          "metadata": {},
          "output_type": "execute_result"
        }
      ],
      "source": [
        "123,345,678 #commonly the comma should replace with _ so python language can understand"
      ]
    },
    {
      "cell_type": "code",
      "execution_count": null,
      "metadata": {
        "colab": {
          "base_uri": "https://localhost:8080/"
        },
        "id": "vqqfAITalJ6R",
        "outputId": "250d9eab-8728-4fb0-fe94-fb519ec25d17"
      },
      "outputs": [
        {
          "data": {
            "text/plain": [
              "123345678"
            ]
          },
          "execution_count": 20,
          "metadata": {},
          "output_type": "execute_result"
        }
      ],
      "source": [
        "123_345_678"
      ]
    },
    {
      "cell_type": "code",
      "execution_count": null,
      "metadata": {
        "colab": {
          "base_uri": "https://localhost:8080/"
        },
        "id": "bDiCGjLqlMl7",
        "outputId": "43c7d4d2-bab6-4e25-a548-149f8fafe3d0"
      },
      "outputs": [
        {
          "data": {
            "text/plain": [
              "3141.59"
            ]
          },
          "execution_count": 21,
          "metadata": {},
          "output_type": "execute_result"
        }
      ],
      "source": [
        "#float\n",
        "3141.59"
      ]
    },
    {
      "cell_type": "code",
      "execution_count": null,
      "metadata": {
        "colab": {
          "base_uri": "https://localhost:8080/"
        },
        "id": "LaQZw9pklRJe",
        "outputId": "aef18d39-b92b-44ec-e308-f11dfb0b096f"
      },
      "outputs": [
        {
          "data": {
            "text/plain": [
              "False"
            ]
          },
          "execution_count": 22,
          "metadata": {},
          "output_type": "execute_result"
        }
      ],
      "source": [
        "#boolean\n",
        "True\n",
        "False"
      ]
    },
    {
      "cell_type": "markdown",
      "metadata": {
        "id": "C0HlU19ElcVX"
      },
      "source": [
        "### Type Error, Type Checking and Type Conversion"
      ]
    },
    {
      "cell_type": "code",
      "execution_count": null,
      "metadata": {
        "colab": {
          "base_uri": "https://localhost:8080/",
          "height": 141
        },
        "id": "pqEPGW9ElVTf",
        "outputId": "b36457cd-a67e-45b4-9d23-d32300db347f"
      },
      "outputs": [
        {
          "ename": "TypeError",
          "evalue": "object of type 'int' has no len()",
          "output_type": "error",
          "traceback": [
            "\u001b[0;31m---------------------------------------------------------------------------\u001b[0m",
            "\u001b[0;31mTypeError\u001b[0m                                 Traceback (most recent call last)",
            "\u001b[0;32m<ipython-input-1-ec67a52704b7>\u001b[0m in \u001b[0;36m<cell line: 1>\u001b[0;34m()\u001b[0m\n\u001b[0;32m----> 1\u001b[0;31m \u001b[0mlen\u001b[0m\u001b[0;34m(\u001b[0m\u001b[0;36m1234\u001b[0m\u001b[0;34m)\u001b[0m\u001b[0;34m\u001b[0m\u001b[0;34m\u001b[0m\u001b[0m\n\u001b[0m",
            "\u001b[0;31mTypeError\u001b[0m: object of type 'int' has no len()"
          ]
        }
      ],
      "source": [
        "len(1234)"
      ]
    },
    {
      "cell_type": "markdown",
      "metadata": {
        "id": "Vf9AXLYj7N-k"
      },
      "source": [
        "why get TypeError, because the object type 'int' has no len() function, len() function just work on str data types"
      ]
    },
    {
      "cell_type": "code",
      "execution_count": null,
      "metadata": {
        "colab": {
          "base_uri": "https://localhost:8080/",
          "height": 176
        },
        "id": "ztXAsKCu5oUY",
        "outputId": "e5acfa74-9e55-40e4-a81d-122fc3074f6c"
      },
      "outputs": [
        {
          "name": "stdout",
          "output_type": "stream",
          "text": [
            "What is your name?maul\n"
          ]
        },
        {
          "ename": "TypeError",
          "evalue": "can only concatenate str (not \"int\") to str",
          "output_type": "error",
          "traceback": [
            "\u001b[0;31m---------------------------------------------------------------------------\u001b[0m",
            "\u001b[0;31mTypeError\u001b[0m                                 Traceback (most recent call last)",
            "\u001b[0;32m<ipython-input-3-9fc2d082d4cb>\u001b[0m in \u001b[0;36m<cell line: 2>\u001b[0;34m()\u001b[0m\n\u001b[1;32m      1\u001b[0m \u001b[0mnum_char\u001b[0m \u001b[0;34m=\u001b[0m \u001b[0mlen\u001b[0m\u001b[0;34m(\u001b[0m\u001b[0minput\u001b[0m\u001b[0;34m(\u001b[0m\u001b[0;34m\"What is your name?\"\u001b[0m\u001b[0;34m)\u001b[0m\u001b[0;34m)\u001b[0m\u001b[0;34m\u001b[0m\u001b[0;34m\u001b[0m\u001b[0m\n\u001b[0;32m----> 2\u001b[0;31m \u001b[0mprint\u001b[0m\u001b[0;34m(\u001b[0m\u001b[0;34m\"Your name has \"\u001b[0m \u001b[0;34m+\u001b[0m \u001b[0mnum_char\u001b[0m \u001b[0;34m+\u001b[0m \u001b[0;34m\" characters.\"\u001b[0m\u001b[0;34m)\u001b[0m\u001b[0;34m\u001b[0m\u001b[0;34m\u001b[0m\u001b[0m\n\u001b[0m",
            "\u001b[0;31mTypeError\u001b[0m: can only concatenate str (not \"int\") to str"
          ]
        }
      ],
      "source": [
        "num_char = len(input(\"What is your name?\"))\n",
        "print(\"Your name has \" + num_char + \" characters.\")"
      ]
    },
    {
      "cell_type": "markdown",
      "metadata": {
        "id": "snUGKuGX7Z64"
      },
      "source": [
        "concatenate (+) only work on str type, if we have different data type concatenate not working as well"
      ]
    },
    {
      "cell_type": "code",
      "execution_count": null,
      "metadata": {
        "colab": {
          "base_uri": "https://localhost:8080/"
        },
        "id": "sOxUWW3963-h",
        "outputId": "c2efb77a-0dc6-4534-cee6-21b775a10b31"
      },
      "outputs": [
        {
          "name": "stdout",
          "output_type": "stream",
          "text": [
            "What is your name?maul\n",
            "Your name has 4 characters.\n"
          ]
        }
      ],
      "source": [
        "num_char = len(input(\"What is your name?\"))\n",
        "new_num_char = str(num_char)\n",
        "print(\"Your name has \" + new_num_char + \" characters.\")"
      ]
    },
    {
      "cell_type": "code",
      "execution_count": null,
      "metadata": {
        "colab": {
          "base_uri": "https://localhost:8080/"
        },
        "id": "vfVgyYjh7zIv",
        "outputId": "9a03a5b4-f6ab-471a-92bb-ce0a9ce23f60"
      },
      "outputs": [
        {
          "name": "stdout",
          "output_type": "stream",
          "text": [
            "<class 'int'>\n"
          ]
        }
      ],
      "source": [
        "print(type(num_char))"
      ]
    },
    {
      "cell_type": "markdown",
      "metadata": {
        "id": "Jvn38Gqx7-YI"
      },
      "source": [
        "to check what your data type, you can use type(variable) function"
      ]
    },
    {
      "cell_type": "code",
      "execution_count": 1,
      "metadata": {},
      "outputs": [
        {
          "name": "stdout",
          "output_type": "stream",
          "text": [
            "<class 'float'>\n"
          ]
        }
      ],
      "source": [
        "a = float(123)\n",
        "print(type(a))"
      ]
    },
    {
      "cell_type": "code",
      "execution_count": 2,
      "metadata": {},
      "outputs": [
        {
          "name": "stdout",
          "output_type": "stream",
          "text": [
            "170.5\n"
          ]
        }
      ],
      "source": [
        "print(70+float(\"100.5\"))"
      ]
    },
    {
      "cell_type": "code",
      "execution_count": 3,
      "metadata": {},
      "outputs": [
        {
          "name": "stdout",
          "output_type": "stream",
          "text": [
            "70100\n"
          ]
        }
      ],
      "source": [
        "print(str(70)+str(100))"
      ]
    },
    {
      "cell_type": "markdown",
      "metadata": {
        "id": "QC-tVZ9I8OAG"
      },
      "source": [
        "### Mathematical Operations"
      ]
    },
    {
      "cell_type": "markdown",
      "metadata": {
        "id": "WHkV8ZJlAeBV"
      },
      "source": [
        "PEMDASLR -> () ** * / + -"
      ]
    },
    {
      "cell_type": "code",
      "execution_count": null,
      "metadata": {
        "id": "9J7iqV3jAdkV"
      },
      "outputs": [],
      "source": []
    },
    {
      "cell_type": "code",
      "execution_count": null,
      "metadata": {
        "colab": {
          "base_uri": "https://localhost:8080/"
        },
        "id": "rtf1M_4U77-F",
        "outputId": "63ae598c-7ba1-46dd-8994-afad9e10bdc7"
      },
      "outputs": [
        {
          "name": "stdout",
          "output_type": "stream",
          "text": [
            "<class 'float'>\n"
          ]
        }
      ],
      "source": [
        "3 + 5\n",
        "7 - 4\n",
        "3 * 2\n",
        "print(type(6 / 3))"
      ]
    },
    {
      "cell_type": "code",
      "execution_count": null,
      "metadata": {
        "colab": {
          "base_uri": "https://localhost:8080/"
        },
        "id": "7rch5l3r8cWy",
        "outputId": "7e3407b6-a587-41c9-ce43-a2477b76fc12"
      },
      "outputs": [
        {
          "data": {
            "text/plain": [
              "8"
            ]
          },
          "execution_count": 9,
          "metadata": {},
          "output_type": "execute_result"
        }
      ],
      "source": [
        "2 ** 3"
      ]
    },
    {
      "cell_type": "markdown",
      "metadata": {
        "id": "OkxmjFrWAyui"
      },
      "source": [
        "### Number Manipulation and F Strings in Python"
      ]
    },
    {
      "cell_type": "code",
      "execution_count": null,
      "metadata": {
        "colab": {
          "base_uri": "https://localhost:8080/"
        },
        "id": "zOgWDNAu8mLh",
        "outputId": "81cc9623-6371-406a-89c8-17e86e0a09f6"
      },
      "outputs": [
        {
          "name": "stdout",
          "output_type": "stream",
          "text": [
            "2.6666666666666665\n"
          ]
        }
      ],
      "source": [
        "print(8/3)"
      ]
    },
    {
      "cell_type": "code",
      "execution_count": null,
      "metadata": {
        "colab": {
          "base_uri": "https://localhost:8080/"
        },
        "id": "lRQDVPIeA4Ow",
        "outputId": "ed2a951c-0e07-4114-8bdd-872e91c022fb"
      },
      "outputs": [
        {
          "name": "stdout",
          "output_type": "stream",
          "text": [
            "2.67\n"
          ]
        }
      ],
      "source": [
        "print(round(8/3, 2))"
      ]
    },
    {
      "cell_type": "code",
      "execution_count": null,
      "metadata": {
        "colab": {
          "base_uri": "https://localhost:8080/"
        },
        "id": "GS6gJgMpA_-n",
        "outputId": "6967fa9d-940c-498c-81ac-14e25aab6618"
      },
      "outputs": [
        {
          "name": "stdout",
          "output_type": "stream",
          "text": [
            "2\n"
          ]
        }
      ],
      "source": [
        "print(8 // 3)"
      ]
    },
    {
      "cell_type": "code",
      "execution_count": null,
      "metadata": {
        "colab": {
          "base_uri": "https://localhost:8080/"
        },
        "id": "o_vOvmRYBIHz",
        "outputId": "c1fee141-72ac-4b0d-8bf1-1bb0f5b212ab"
      },
      "outputs": [
        {
          "name": "stdout",
          "output_type": "stream",
          "text": [
            "<class 'int'>\n"
          ]
        }
      ],
      "source": [
        "print(type(8 // 3))"
      ]
    },
    {
      "cell_type": "code",
      "execution_count": null,
      "metadata": {
        "colab": {
          "base_uri": "https://localhost:8080/"
        },
        "id": "xNMXJQIkBLSj",
        "outputId": "4c53375f-29d0-46bb-c150-577d71b81535"
      },
      "outputs": [
        {
          "name": "stdout",
          "output_type": "stream",
          "text": [
            "1.0\n"
          ]
        }
      ],
      "source": [
        "score = 4 / 2\n",
        "score /= 2\n",
        "print(score)"
      ]
    },
    {
      "cell_type": "code",
      "execution_count": null,
      "metadata": {
        "colab": {
          "base_uri": "https://localhost:8080/"
        },
        "id": "GiQixUr5BWv0",
        "outputId": "91f21734-91be-44c6-aa07-7735706eb3ff"
      },
      "outputs": [
        {
          "name": "stdout",
          "output_type": "stream",
          "text": [
            "1\n"
          ]
        }
      ],
      "source": [
        "result = 0\n",
        "#result = result + 1\n",
        "result += 1\n",
        "print(result)"
      ]
    },
    {
      "cell_type": "code",
      "execution_count": null,
      "metadata": {
        "colab": {
          "base_uri": "https://localhost:8080/"
        },
        "id": "KLJKhj42BpVp",
        "outputId": "1c6ae271-959a-4df7-c700-f2cd94c2bc92"
      },
      "outputs": [
        {
          "name": "stdout",
          "output_type": "stream",
          "text": [
            "your score is 0, your height is 1.8, you are winning is True\n"
          ]
        }
      ],
      "source": [
        "score = 0\n",
        "height = 1.8\n",
        "isWinning = True\n",
        "#f-string\n",
        "print(f\"your score is {score}, your height is {height}, you are winning is {isWinning}\")"
      ]
    },
    {
      "cell_type": "markdown",
      "metadata": {},
      "source": [
        "### **Exercise: Life in Weeks**"
      ]
    },
    {
      "cell_type": "markdown",
      "metadata": {},
      "source": [
        "I was reading this article by Tim Urban - Your Life in Weeks and realised just how title time we actually have.\n",
        "\n",
        "Create a program using maths and f-Strings that tells us how many weeks we have left, if we live until 90 years old.\n",
        "\n",
        "It will take you current age as the input and output a message with our time left in the format: you have x weeks left.\n",
        "\n",
        "Where x is replaced with the actual calculated number of weeks the input age has left until age 90.\n",
        "\n",
        "Create a program using maths and f-Strings that tells us how many weeks we have left, if we live until 90 years old."
      ]
    },
    {
      "cell_type": "code",
      "execution_count": 8,
      "metadata": {},
      "outputs": [
        {
          "name": "stdout",
          "output_type": "stream",
          "text": [
            "You have 52 weeks left.\n"
          ]
        }
      ],
      "source": [
        "age = input()\n",
        "# dont change the code above\n",
        "# your code below this line\n",
        "years = 90 - int(age)\n",
        "week = years * 52\n",
        "\n",
        "print(f\"You have {week} weeks left.\")"
      ]
    },
    {
      "cell_type": "markdown",
      "metadata": {},
      "source": [
        "### **Project: Tip Calculator** "
      ]
    },
    {
      "cell_type": "markdown",
      "metadata": {},
      "source": [
        "**Instruction**\n",
        "\n",
        "If the bill was $150.00, split between 5 people, with 12% tip.\n",
        "\n",
        "Each person should pay (150.00 / 5) * 1.12 = 33.6\n",
        "\n",
        "Format the result to 2 decimal places = 33.60\n",
        "\n",
        "Thus everyone's share of the total bill is $30.00 plus a $3.60 tip.\n",
        "\n",
        "Tip: There are 2 ways to round a number. You might have to do some Googling to solve this."
      ]
    },
    {
      "cell_type": "markdown",
      "metadata": {},
      "source": [
        "**Example Input**\n",
        "\n",
        "Welcome to the tip calculator!\n",
        "\n",
        "What was the total bill? $124.56\n",
        "\n",
        "How much tip would you like to give? 10, 12, or 15? 12\n",
        "\n",
        "How many people to split the bill? 7\n",
        "\n",
        "\n",
        "**Example Output**\n",
        "\n",
        "Each person should pay: $19.93\n"
      ]
    },
    {
      "cell_type": "code",
      "execution_count": 24,
      "metadata": {},
      "outputs": [
        {
          "name": "stdout",
          "output_type": "stream",
          "text": [
            "Welcome to the tip calculator!\n",
            "Each person should pay : $19.92\n"
          ]
        }
      ],
      "source": [
        "print('Welcome to the tip calculator!')\n",
        "bills = input('What was the bills? $')\n",
        "tip = input('How much tip would you like to give? 10, 12 or 15? ')\n",
        "people = input('How many people to split the bill?')\n",
        "split = round(float(bills)/int(people),2)\n",
        "pay = split + round(split*(int(tip)/100),2)\n",
        "\n",
        "print(f'Each person should pay : ${round(pay,2)}')"
      ]
    },
    {
      "cell_type": "code",
      "execution_count": null,
      "metadata": {},
      "outputs": [],
      "source": []
    }
  ],
  "metadata": {
    "colab": {
      "collapsed_sections": [
        "C0HlU19ElcVX"
      ],
      "provenance": []
    },
    "kernelspec": {
      "display_name": "Python 3",
      "name": "python3"
    },
    "language_info": {
      "codemirror_mode": {
        "name": "ipython",
        "version": 3
      },
      "file_extension": ".py",
      "mimetype": "text/x-python",
      "name": "python",
      "nbconvert_exporter": "python",
      "pygments_lexer": "ipython3",
      "version": "3.9.6"
    }
  },
  "nbformat": 4,
  "nbformat_minor": 0
}
