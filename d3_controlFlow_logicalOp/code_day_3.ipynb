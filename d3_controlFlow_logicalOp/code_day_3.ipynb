{
  "cells": [
    {
      "cell_type": "markdown",
      "metadata": {
        "id": "IrU2odfrCdmj"
      },
      "source": [
        "### Control Flow with if / else and Conditional Operators"
      ]
    },
    {
      "cell_type": "code",
      "execution_count": 1,
      "metadata": {},
      "outputs": [],
      "source": [
        "water_level = 50\n",
        "if water_level > 50:\n",
        "    print('drain the water')"
      ]
    },
    {
      "cell_type": "code",
      "execution_count": null,
      "metadata": {
        "colab": {
          "base_uri": "https://localhost:8080/"
        },
        "id": "fUmyCrzlCWo6",
        "outputId": "4fad8c4e-3612-4384-8d46-fb154975e816"
      },
      "outputs": [
        {
          "name": "stdout",
          "output_type": "stream",
          "text": [
            "Welcome to the rollercoaster!\n",
            "What is your height in cm? 130\n",
            "You can ride the rollercoaster!\n"
          ]
        }
      ],
      "source": [
        "print(\"Welcome to the rollercoaster!\")\n",
        "height = int(input(\"What is your height in cm? \"))\n",
        "\n",
        "if height >= 120:\n",
        "  print(\"You can ride the rollercoaster!\")\n",
        "else:\n",
        "  print(\"Sorry, you have to grow taller before you can ride.\")"
      ]
    },
    {
      "cell_type": "markdown",
      "metadata": {
        "id": "DfDjfb3WDXjC"
      },
      "source": [
        "indentation cause error"
      ]
    },
    {
      "cell_type": "code",
      "execution_count": null,
      "metadata": {
        "colab": {
          "base_uri": "https://localhost:8080/",
          "height": 106
        },
        "id": "WwCOt5QdDSh8",
        "outputId": "10b97d63-f7d0-4696-955b-35772a3f6499"
      },
      "outputs": [
        {
          "ename": "SyntaxError",
          "evalue": "invalid syntax (<ipython-input-28-db738d7428d5>, line 6)",
          "output_type": "error",
          "traceback": [
            "\u001b[0;36m  File \u001b[0;32m\"<ipython-input-28-db738d7428d5>\"\u001b[0;36m, line \u001b[0;32m6\u001b[0m\n\u001b[0;31m    else:\u001b[0m\n\u001b[0m    ^\u001b[0m\n\u001b[0;31mSyntaxError\u001b[0m\u001b[0;31m:\u001b[0m invalid syntax\n"
          ]
        }
      ],
      "source": [
        "print(\"Welcome to the rollercoaster!\")\n",
        "height = int(input(\"What is your height in cm? \"))\n",
        "\n",
        "if height >= 120:\n",
        "  print(\"You can ride the rollercoaster!\")\n",
        "  else:\n",
        "    print(\"Sorry, you have to grow taller before you can ride.\")"
      ]
    },
    {
      "cell_type": "markdown",
      "metadata": {
        "id": "ahQF63DlDPTZ"
      },
      "source": [
        "### Nested if statements and elif statements"
      ]
    },
    {
      "cell_type": "code",
      "execution_count": null,
      "metadata": {
        "colab": {
          "base_uri": "https://localhost:8080/"
        },
        "id": "eSeTL0kzC7uN",
        "outputId": "c726ae5c-41ab-43b1-8a59-b87d010bc83a"
      },
      "outputs": [
        {
          "name": "stdout",
          "output_type": "stream",
          "text": [
            "Welcome to the rollercoaster!\n",
            "What is your height in cm? 120\n",
            "You can ride the rollercoaster!\n",
            "What is your age? 9\n",
            "Please pay $5.\n"
          ]
        }
      ],
      "source": [
        "print(\"Welcome to the rollercoaster!\")\n",
        "height = int(input(\"What is your height in cm? \"))\n",
        "\n",
        "if height >= 120:\n",
        "  print(\"You can ride the rollercoaster!\")\n",
        "  age = int(input(\"What is your age? \"))\n",
        "  if age < 12:\n",
        "    print(\"Please pay $5.\")\n",
        "  else:\n",
        "    print(\"Please pay $7.\")\n",
        "else:\n",
        "  print(\"Sorry, you have to grow taller before you can ride.\")"
      ]
    },
    {
      "cell_type": "code",
      "execution_count": null,
      "metadata": {
        "colab": {
          "base_uri": "https://localhost:8080/"
        },
        "id": "ttJ7tWFqDz3L",
        "outputId": "037e9cb6-76a4-438f-9681-745bfc2cd7e2"
      },
      "outputs": [
        {
          "name": "stdout",
          "output_type": "stream",
          "text": [
            "welcome to the rollercoaster!\n",
            "What is your height in cm? 120\n",
            "You can ride the rollercoaster!\n",
            "What is your age? 8\n",
            "Please pay $5.\n"
          ]
        }
      ],
      "source": [
        "print(\"welcome to the rollercoaster!\")\n",
        "height = int(input(\"What is your height in cm? \"))\n",
        "\n",
        "if height >= 120:\n",
        "  print(\"You can ride the rollercoaster!\")\n",
        "  age = int(input(\"What is your age? \"))\n",
        "  if age < 12:\n",
        "    print(\"Please pay $5.\")\n",
        "  elif age <= 18:\n",
        "    print(\"Please pay $7.\")\n",
        "  else:\n",
        "    print(\"Please pay $12.\")\n",
        "else:\n",
        "  print(\"Sorry, you have to grow taller before you can ride.\")"
      ]
    },
    {
      "cell_type": "markdown",
      "metadata": {
        "id": "5-Li21eOEVSd"
      },
      "source": [
        "### Multiple If statements in Succession"
      ]
    },
    {
      "cell_type": "code",
      "execution_count": null,
      "metadata": {
        "colab": {
          "base_uri": "https://localhost:8080/"
        },
        "id": "KRirYXUrEL6W",
        "outputId": "0a8bff26-a0fa-4353-9e5d-f4a7e17b4291"
      },
      "outputs": [
        {
          "name": "stdout",
          "output_type": "stream",
          "text": [
            "Welcome to the rollercoaster!\n",
            "What is your height in cm? 120\n",
            "You can ride the rollercoaster!\n",
            "What is your age? 21\n",
            "Please pay $12.\n",
            "Do you want a photo taken? Y or N. y\n",
            "Your final bill is $12\n"
          ]
        }
      ],
      "source": [
        "print(\"Welcome to the rollercoaster!\")\n",
        "height = int(input(\"What is your height in cm? \"))\n",
        "bill = 0\n",
        "\n",
        "if height >= 120:\n",
        "  print(\"You can ride the rollercoaster!\")\n",
        "  age = int(input(\"What is your age? \"))\n",
        "  if age < 12:\n",
        "    bill = 5\n",
        "    print(\"Child tickets are $5.\")\n",
        "  elif age <= 18:\n",
        "    bill = 7\n",
        "    print(\"Youth tickets are $7.\")\n",
        "  else:\n",
        "    bill = 12\n",
        "    print(\"Adult tickets are $12.\")\n",
        "    \n",
        "  wants_photo = input(\"Do you want a photo taken? Y or N. \")\n",
        "  if wants_photo == \"Y\":\n",
        "    bill += 3\n",
        "    print(\"Take a photo!\")\n",
        "else:\n",
        "  print(\"Sorry, you have to grow taller before you can ride.\")\n",
        "\n",
        "print(f\"Your final bill is ${bill}\")"
      ]
    },
    {
      "cell_type": "markdown",
      "metadata": {
        "id": "bphqnsSsFz-V"
      },
      "source": [
        "### Logical Operators"
      ]
    },
    {
      "cell_type": "code",
      "execution_count": null,
      "metadata": {
        "colab": {
          "base_uri": "https://localhost:8080/"
        },
        "id": "3bZWS1hYF13_",
        "outputId": "b04ac3bd-749b-423a-b7b7-dbac32c2f9a4"
      },
      "outputs": [
        {
          "name": "stdout",
          "output_type": "stream",
          "text": [
            "Welcome to the rollercoaster!\n",
            "What is your height in cm? 180\n",
            "You can ride the rollercoaster!\n",
            "What is your age? 30\n",
            "Adult pay $12.\n",
            "Do you want a photo taken? Y or N. y\n",
            "Your final bill is $12\n"
          ]
        }
      ],
      "source": [
        "print(\"Welcome to the rollercoaster!\")\n",
        "height = int(input(\"What is your height in cm? \"))\n",
        "bill = 0\n",
        "\n",
        "if height >= 120:\n",
        "  print(\"You can ride the rollercoaster!\")\n",
        "  age = int(input(\"What is your age? \"))\n",
        "  if age < 12:\n",
        "    bill = 5\n",
        "    print(\"Child tickets are $5.\")\n",
        "  elif age <= 18:\n",
        "    bill = 7\n",
        "    print(\"Youth tickets are $7.\")\n",
        "  elif age >= 45 and age <= 55:\n",
        "    print(\"Everything is goixng to be ok. Have a free ride on us!\")\n",
        "  else:\n",
        "    bill = 12\n",
        "    print(\"Adult pay $12.\")\n",
        "\n",
        "  wants_photo = input(\"Do you want a photo taken? Y or N. \")\n",
        "  if wants_photo == \"Y\":\n",
        "    bill += 3\n",
        "    print(\"Take a photo!\")\n",
        "else:\n",
        "  print(\"Sorry, you have to grow taller before you can ride.\")\n",
        "\n",
        "print(f\"Your final bill is ${bill}\")"
      ]
    },
    {
      "cell_type": "markdown",
      "metadata": {},
      "source": [
        "### **Exercise: Love Calculator**"
      ]
    },
    {
      "cell_type": "markdown",
      "metadata": {},
      "source": [
        "You are going to write a program that tests the compability between two people.\n",
        "\n",
        "To work out the love score between two people:\n",
        "\n",
        "1. Take both people's names and check for the number of times the letters in the word TRUE occurs.\n",
        "2. Then check for the number of times the letters in the word LOVE occurs.\n",
        "3. Then combine these numbers to make a 2 digit number.\n",
        "\n",
        "For Love scores less than 10 or greater than 90, the message should be:\n",
        "\n",
        "'score is *x*, you go together like coke and mentos.'\n",
        "\n",
        "For Love scores less than 10 or greater than 90, the message should be:\n",
        "\n",
        "'Your score is *y*, you are alright together.'\n",
        "\n",
        "Otherwise, the message will just be their score. e.g:\n",
        "\n",
        "'Your score is *z*.'"
      ]
    },
    {
      "cell_type": "code",
      "execution_count": 2,
      "metadata": {},
      "outputs": [
        {
          "name": "stdout",
          "output_type": "stream",
          "text": [
            "The Love Calculator is calculating your score...\n",
            "Your score is 3, you go together like coke and mentos.\n"
          ]
        }
      ],
      "source": [
        "print('The Love Calculator is calculating your score...')\n",
        "name1 = input()\n",
        "name2 = input()\n",
        "# dont change the code above\n",
        "# write your code below this line\n",
        "combined_names = name1 + name2\n",
        "lower_names = combined_names.lower()\n",
        "t = lower_names.count('t')\n",
        "r = lower_names.count('r')\n",
        "u = lower_names.count('u')\n",
        "e = lower_names.count('e')\n",
        "first_digit = t + r + u + e\n",
        "\n",
        "l = lower_names.count('l')\n",
        "o = lower_names.count('o')\n",
        "v = lower_names.count('v')\n",
        "e = lower_names.count('e')\n",
        "second_digit = l + o + v + e\n",
        "\n",
        "score = int(str(first_digit)) + int(str(second_digit))\n",
        "\n",
        "if (score < 10) or (score > 90):\n",
        "    print(f\"Your score is {score}, you go together like coke and mentos.\")\n",
        "elif (score >= 40) or (score <= 50):\n",
        "    print(f\"Your score is {score}, you are alright together.\")\n",
        "else:\n",
        "    print(f\"Your score is {score}\")"
      ]
    },
    {
      "cell_type": "markdown",
      "metadata": {},
      "source": [
        "### **Project: Treasure Island**"
      ]
    },
    {
      "cell_type": "markdown",
      "metadata": {},
      "source": []
    },
    {
      "cell_type": "code",
      "execution_count": 6,
      "metadata": {},
      "outputs": [
        {
          "name": "stdout",
          "output_type": "stream",
          "text": [
            "\n",
            "*******************************************************************************\n",
            "          |                   |                  |                     |\n",
            " _________|________________.=\"\"_;=.______________|_____________________|_______\n",
            "|                   |  ,-\"_,=\"\"     `\"=.|                  |\n",
            "|___________________|__\"=._o`\"-._        `\"=.______________|___________________\n",
            "          |                `\"=._o`\"=._      _`\"=._                     |\n",
            " _________|_____________________:=._o \"=._.\"_.-=\"'\"=.__________________|_______\n",
            "|                   |    __.--\" , ; `\"=._o.\" ,-\"\"\"-._ \".   |\n",
            "|___________________|_._\"  ,. .` ` `` ,  `\"-._\"-._   \". '__|___________________\n",
            "          |           |o`\"=._` , \"` `; .\". ,  \"-._\"-._; ;              |\n",
            " _________|___________| ;`-.o`\"=._; .\" ` '`.\"\\` . \"-._ /_______________|_______\n",
            "|                   | |o;    `\"-.o`\"=._``  '` \" ,__.--o;   |\n",
            "|___________________|_| ;     (#) `-.o `\"=.`_.--\"_o.-; ;___|___________________\n",
            "____/______/______/___|o;._    \"      `\".o|o_.--\"    ;o;____/______/______/____\n",
            "/______/______/______/_\"=._o--._        ; | ;        ; ;/______/______/______/_\n",
            "____/______/______/______/__\"=._o--._   ;o|o;     _._;o;____/______/______/____\n",
            "/______/______/______/______/____\"=._o._; | ;_.--\"o.--\"_/______/______/______/_\n",
            "____/______/______/______/______/_____\"=.o|o_.--\"\"___/______/______/______/____\n",
            "/______/______/______/______/______/______/______/______/______/______/_____ /\n",
            "*******************************************************************************\n",
            "\n",
            "Welcome to Treasure Island.\n",
            "Your mission is to find the treasure.\n",
            "You found the treasure! You Win!\n"
          ]
        }
      ],
      "source": [
        "print('''\n",
        "*******************************************************************************\n",
        "          |                   |                  |                     |\n",
        " _________|________________.=\"\"_;=.______________|_____________________|_______\n",
        "|                   |  ,-\"_,=\"\"     `\"=.|                  |\n",
        "|___________________|__\"=._o`\"-._        `\"=.______________|___________________\n",
        "          |                `\"=._o`\"=._      _`\"=._                     |\n",
        " _________|_____________________:=._o \"=._.\"_.-=\"'\"=.__________________|_______\n",
        "|                   |    __.--\" , ; `\"=._o.\" ,-\"\"\"-._ \".   |\n",
        "|___________________|_._\"  ,. .` ` `` ,  `\"-._\"-._   \". '__|___________________\n",
        "          |           |o`\"=._` , \"` `; .\". ,  \"-._\"-._; ;              |\n",
        " _________|___________| ;`-.o`\"=._; .\" ` '`.\"\\` . \"-._ /_______________|_______\n",
        "|                   | |o;    `\"-.o`\"=._``  '` \" ,__.--o;   |\n",
        "|___________________|_| ;     (#) `-.o `\"=.`_.--\"_o.-; ;___|___________________\n",
        "____/______/______/___|o;._    \"      `\".o|o_.--\"    ;o;____/______/______/____\n",
        "/______/______/______/_\"=._o--._        ; | ;        ; ;/______/______/______/_\n",
        "____/______/______/______/__\"=._o--._   ;o|o;     _._;o;____/______/______/____\n",
        "/______/______/______/______/____\"=._o._; | ;_.--\"o.--\"_/______/______/______/_\n",
        "____/______/______/______/______/_____\"=.o|o_.--\"\"___/______/______/______/____\n",
        "/______/______/______/______/______/______/______/______/______/______/_____ /\n",
        "*******************************************************************************\n",
        "''')\n",
        "print(\"Welcome to Treasure Island.\")\n",
        "print(\"Your mission is to find the treasure.\") \n",
        "\n",
        "#https://www.draw.io/?lightbox=1&highlight=0000ff&edit=_blank&layers=1&nav=1&title=Treasure%20Island%20Conditional.drawio#Uhttps%3A%2F%2Fdrive.google.com%2Fuc%3Fid%3D1oDe4ehjWZipYRsVfeAx2HyB7LCQ8_Fvi%26export%3Ddownload\n",
        "\n",
        "#Write your code below this line 👇\n",
        "choice1 = input('You\\'re at a cross road. Where do you want to go? Type \"left\" or \"right\" \\n').lower()\n",
        "if choice1 == \"left\":\n",
        "  choice2 = input('You\\'ve come to a lake. There is an island in the middle of the lake. Type \"wait\" to wait for a boat. Type \"swim\" to swim across. \\n').lower()\n",
        "  if choice2 == \"wait\":\n",
        "    choice3 = input(\"You arrive at the island unharmed. There is a house with 3 doors. One red, one yellow and one blue. Which colour do you choose? \\n\").lower()\n",
        "    if choice3 == \"red\":\n",
        "      print(\"It's a room full of fire. Game Over.\")\n",
        "    elif choice3 == \"yellow\":\n",
        "      print(\"You found the treasure! You Win!\")\n",
        "    elif choice3 == \"blue\":\n",
        "      print(\"You enter a room of beasts. Game Over.\")\n",
        "    else:\n",
        "      print(\"You chose a door that doesn't exist. Game Over.\")\n",
        "  else:\n",
        "    print(\"You get attacked by an angry trout. Game Over.\")\n",
        "else:\n",
        "  print(\"You fell into a hole. Game Over.\")"
      ]
    },
    {
      "cell_type": "code",
      "execution_count": null,
      "metadata": {},
      "outputs": [],
      "source": []
    }
  ],
  "metadata": {
    "colab": {
      "collapsed_sections": [
        "C0HlU19ElcVX"
      ],
      "provenance": []
    },
    "kernelspec": {
      "display_name": "Python 3",
      "name": "python3"
    },
    "language_info": {
      "codemirror_mode": {
        "name": "ipython",
        "version": 3
      },
      "file_extension": ".py",
      "mimetype": "text/x-python",
      "name": "python",
      "nbconvert_exporter": "python",
      "pygments_lexer": "ipython3",
      "version": "3.9.6"
    }
  },
  "nbformat": 4,
  "nbformat_minor": 0
}
