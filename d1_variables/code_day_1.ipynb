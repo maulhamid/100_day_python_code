{
  "cells": [
    {
      "cell_type": "markdown",
      "metadata": {
        "id": "iLrnMbjOaUlx"
      },
      "source": [
        "### String Manipulation & Code Intelligence"
      ]
    },
    {
      "cell_type": "code",
      "execution_count": 2,
      "metadata": {
        "colab": {
          "base_uri": "https://localhost:8080/"
        },
        "id": "b7weGuJ5Yp9c",
        "outputId": "d7d925bf-df7d-4cf3-c5f5-30bd289c030e"
      },
      "outputs": [
        {
          "name": "stdout",
          "output_type": "stream",
          "text": [
            "Hello World! \n",
            "Hello World!\n"
          ]
        }
      ],
      "source": [
        "print('Hello World! \\nHello World!')"
      ]
    },
    {
      "cell_type": "code",
      "execution_count": 3,
      "metadata": {
        "colab": {
          "base_uri": "https://localhost:8080/"
        },
        "id": "9B2eqOcbaTPC",
        "outputId": "83bf6f99-d80b-4618-e1bc-e3b9b462fd89"
      },
      "outputs": [
        {
          "name": "stdout",
          "output_type": "stream",
          "text": [
            "Hello Angela!\n"
          ]
        }
      ],
      "source": [
        "print('Hello'+' '+'Angela!')"
      ]
    },
    {
      "cell_type": "code",
      "execution_count": 4,
      "metadata": {
        "colab": {
          "base_uri": "https://localhost:8080/",
          "height": 53
        },
        "id": "5f4UWZWcalla",
        "outputId": "1159f3dd-eedc-409c-94b1-89840b283f12"
      },
      "outputs": [
        {
          "data": {
            "text/plain": [
              "'Maul'"
            ]
          },
          "execution_count": 4,
          "metadata": {},
          "output_type": "execute_result"
        }
      ],
      "source": [
        "input('What is your name?')"
      ]
    },
    {
      "cell_type": "code",
      "execution_count": 5,
      "metadata": {
        "colab": {
          "base_uri": "https://localhost:8080/"
        },
        "id": "wk3o1YrJbGU9",
        "outputId": "6607c77a-752f-49f4-9c28-9b1264cde3de"
      },
      "outputs": [
        {
          "name": "stdout",
          "output_type": "stream",
          "text": [
            "Hello! Maul\n"
          ]
        }
      ],
      "source": [
        "# input() will get user input in console\n",
        "# then print() will print the word \"Hello\" and the user input\n",
        "print('Hello! '+ input('What is your name?'))"
      ]
    },
    {
      "cell_type": "markdown",
      "metadata": {
        "id": "4TLXsqB8hXVo"
      },
      "source": [
        "### Variables"
      ]
    },
    {
      "cell_type": "code",
      "execution_count": 6,
      "metadata": {
        "colab": {
          "base_uri": "https://localhost:8080/"
        },
        "id": "R1wv8LgCbX9U",
        "outputId": "dea4cd76-d715-4cab-9a7e-3cd18d023790"
      },
      "outputs": [
        {
          "name": "stdout",
          "output_type": "stream",
          "text": [
            "Maul\n"
          ]
        }
      ],
      "source": [
        "name = input('What is your name')\n",
        "print(name)"
      ]
    },
    {
      "cell_type": "code",
      "execution_count": 7,
      "metadata": {
        "colab": {
          "base_uri": "https://localhost:8080/"
        },
        "id": "9_ii6GvXhnKF",
        "outputId": "776e91f4-851d-46c5-d458-b31d95c85202"
      },
      "outputs": [
        {
          "name": "stdout",
          "output_type": "stream",
          "text": [
            "Jack\n",
            "Angela\n"
          ]
        }
      ],
      "source": [
        "name = 'Jack'\n",
        "print(name)\n",
        "name = 'Angela'\n",
        "print(name)"
      ]
    },
    {
      "cell_type": "code",
      "execution_count": 8,
      "metadata": {
        "colab": {
          "base_uri": "https://localhost:8080/"
        },
        "id": "1UmqQRsIh9Ux",
        "outputId": "fbe587c6-92b4-4091-cb51-011892b72719"
      },
      "outputs": [
        {
          "name": "stdout",
          "output_type": "stream",
          "text": [
            "4\n"
          ]
        }
      ],
      "source": [
        "name = input('What is your name')\n",
        "length = len(name)\n",
        "print(length)"
      ]
    },
    {
      "cell_type": "markdown",
      "metadata": {
        "id": "x2g5rvH2iOUe"
      },
      "source": [
        "### Variable Naming"
      ]
    },
    {
      "cell_type": "markdown",
      "metadata": {
        "id": "MEXA5JXZixzQ"
      },
      "source": [
        "Variable should be unique and there must be no spaces"
      ]
    },
    {
      "cell_type": "code",
      "execution_count": 9,
      "metadata": {
        "colab": {
          "base_uri": "https://localhost:8080/",
          "height": 108
        },
        "id": "i0sSdXZAiHr0",
        "outputId": "87b75a94-0ef2-4e53-f46d-5eb7ceeb8029"
      },
      "outputs": [
        {
          "ename": "SyntaxError",
          "evalue": "invalid syntax (408111824.py, line 3)",
          "output_type": "error",
          "traceback": [
            "\u001b[0;36m  Cell \u001b[0;32mIn[9], line 3\u001b[0;36m\u001b[0m\n\u001b[0;31m    user name = 'Angela' #incorrect\u001b[0m\n\u001b[0m         ^\u001b[0m\n\u001b[0;31mSyntaxError\u001b[0m\u001b[0;31m:\u001b[0m invalid syntax\n"
          ]
        }
      ],
      "source": [
        "user_name = 'Jack' #correct\n",
        "print(user_name)\n",
        "user name = 'Angela' #incorrect\n",
        "print(name)"
      ]
    },
    {
      "cell_type": "code",
      "execution_count": null,
      "metadata": {
        "id": "gY5IJd9UjGni"
      },
      "outputs": [],
      "source": []
    }
  ],
  "metadata": {
    "colab": {
      "collapsed_sections": [
        "C0HlU19ElcVX"
      ],
      "provenance": []
    },
    "kernelspec": {
      "display_name": "Python 3",
      "name": "python3"
    },
    "language_info": {
      "codemirror_mode": {
        "name": "ipython",
        "version": 3
      },
      "file_extension": ".py",
      "mimetype": "text/x-python",
      "name": "python",
      "nbconvert_exporter": "python",
      "pygments_lexer": "ipython3",
      "version": "3.9.6"
    }
  },
  "nbformat": 4,
  "nbformat_minor": 0
}
