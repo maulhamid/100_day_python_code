{
 "cells": [
  {
   "cell_type": "markdown",
   "metadata": {},
   "source": [
    "### Defining and Calling Pythion Function"
   ]
  },
  {
   "cell_type": "code",
   "execution_count": 1,
   "metadata": {},
   "outputs": [
    {
     "name": "stdout",
     "output_type": "stream",
     "text": [
      "Hello\n",
      "5\n"
     ]
    }
   ],
   "source": [
    "print(\"Hello\")\n",
    "num_char = len(\"Hello\")\n",
    "print(num_char)"
   ]
  },
  {
   "cell_type": "code",
   "execution_count": 2,
   "metadata": {},
   "outputs": [],
   "source": [
    "def my_function():\n",
    "    print(\"Hello\")\n",
    "    print(\"Bye\")"
   ]
  },
  {
   "cell_type": "code",
   "execution_count": 4,
   "metadata": {},
   "outputs": [
    {
     "name": "stdout",
     "output_type": "stream",
     "text": [
      "Hello\n",
      "Bye\n"
     ]
    }
   ],
   "source": [
    "my_function()"
   ]
  },
  {
   "cell_type": "markdown",
   "metadata": {},
   "source": [
    "### Indentation in Python"
   ]
  },
  {
   "cell_type": "code",
   "execution_count": 5,
   "metadata": {},
   "outputs": [
    {
     "name": "stdout",
     "output_type": "stream",
     "text": [
      "hello\n"
     ]
    }
   ],
   "source": [
    "def my_function():\n",
    "    if sky == 'clear':\n",
    "        print('blue')\n",
    "    elif sky == 'cloudy':\n",
    "        print('grey')\n",
    "    print('hello')\n",
    "print('hello')"
   ]
  },
  {
   "cell_type": "markdown",
   "metadata": {},
   "source": [
    "this code can run in this link (https://reeborg.ca/reeborg.html?lang=en&mode=python&menu=worlds%2Fmenus%2Freeborg_intro_en.json&name=Maze&url=worlds%2Ftutorial_en%2Fmaze1.json)"
   ]
  },
  {
   "cell_type": "code",
   "execution_count": 6,
   "metadata": {},
   "outputs": [],
   "source": [
    "def turn_right():\n",
    "    print('turn_left')\n",
    "    print('turn_left')\n",
    "    print('turn_left')"
   ]
  },
  {
   "cell_type": "code",
   "execution_count": 7,
   "metadata": {},
   "outputs": [],
   "source": [
    "def jump():\n",
    "    print('move')\n",
    "    print('turn_left')\n",
    "    print('move')\n",
    "    print(turn_right())\n",
    "    print('move')\n",
    "    print(turn_right())\n",
    "    print('move')\n",
    "    print('turn_left')"
   ]
  },
  {
   "cell_type": "code",
   "execution_count": 8,
   "metadata": {},
   "outputs": [
    {
     "name": "stdout",
     "output_type": "stream",
     "text": [
      "move\n",
      "turn_left\n",
      "move\n",
      "turn_left\n",
      "turn_left\n",
      "turn_left\n",
      "None\n",
      "move\n",
      "turn_left\n",
      "turn_left\n",
      "turn_left\n",
      "None\n",
      "move\n",
      "turn_left\n",
      "move\n",
      "turn_left\n",
      "move\n",
      "turn_left\n",
      "turn_left\n",
      "turn_left\n",
      "None\n",
      "move\n",
      "turn_left\n",
      "turn_left\n",
      "turn_left\n",
      "None\n",
      "move\n",
      "turn_left\n",
      "move\n",
      "turn_left\n",
      "move\n",
      "turn_left\n",
      "turn_left\n",
      "turn_left\n",
      "None\n",
      "move\n",
      "turn_left\n",
      "turn_left\n",
      "turn_left\n",
      "None\n",
      "move\n",
      "turn_left\n",
      "move\n",
      "turn_left\n",
      "move\n",
      "turn_left\n",
      "turn_left\n",
      "turn_left\n",
      "None\n",
      "move\n",
      "turn_left\n",
      "turn_left\n",
      "turn_left\n",
      "None\n",
      "move\n",
      "turn_left\n",
      "move\n",
      "turn_left\n",
      "move\n",
      "turn_left\n",
      "turn_left\n",
      "turn_left\n",
      "None\n",
      "move\n",
      "turn_left\n",
      "turn_left\n",
      "turn_left\n",
      "None\n",
      "move\n",
      "turn_left\n",
      "move\n",
      "turn_left\n",
      "move\n",
      "turn_left\n",
      "turn_left\n",
      "turn_left\n",
      "None\n",
      "move\n",
      "turn_left\n",
      "turn_left\n",
      "turn_left\n",
      "None\n",
      "move\n",
      "turn_left\n"
     ]
    }
   ],
   "source": [
    "for step in range(6):\n",
    "    jump()"
   ]
  },
  {
   "cell_type": "markdown",
   "metadata": {},
   "source": [
    "### While Loops"
   ]
  },
  {
   "cell_type": "markdown",
   "metadata": {},
   "source": [
    "the code can run in this link (https://reeborg.ca/reeborg.html?lang=en&mode=python&menu=worlds%2Fmenus%2Freeborg_intro_en.json&name=Maze&url=worlds%2Ftutorial_en%2Fmaze1.json)"
   ]
  },
  {
   "cell_type": "code",
   "execution_count": 10,
   "metadata": {},
   "outputs": [
    {
     "name": "stdout",
     "output_type": "stream",
     "text": [
      "move\n",
      "turn_left\n",
      "move\n",
      "turn_left\n",
      "turn_left\n",
      "turn_left\n",
      "None\n",
      "move\n",
      "turn_left\n",
      "turn_left\n",
      "turn_left\n",
      "None\n",
      "move\n",
      "turn_left\n",
      "5\n",
      "move\n",
      "turn_left\n",
      "move\n",
      "turn_left\n",
      "turn_left\n",
      "turn_left\n",
      "None\n",
      "move\n",
      "turn_left\n",
      "turn_left\n",
      "turn_left\n",
      "None\n",
      "move\n",
      "turn_left\n",
      "4\n",
      "move\n",
      "turn_left\n",
      "move\n",
      "turn_left\n",
      "turn_left\n",
      "turn_left\n",
      "None\n",
      "move\n",
      "turn_left\n",
      "turn_left\n",
      "turn_left\n",
      "None\n",
      "move\n",
      "turn_left\n",
      "3\n",
      "move\n",
      "turn_left\n",
      "move\n",
      "turn_left\n",
      "turn_left\n",
      "turn_left\n",
      "None\n",
      "move\n",
      "turn_left\n",
      "turn_left\n",
      "turn_left\n",
      "None\n",
      "move\n",
      "turn_left\n",
      "2\n",
      "move\n",
      "turn_left\n",
      "move\n",
      "turn_left\n",
      "turn_left\n",
      "turn_left\n",
      "None\n",
      "move\n",
      "turn_left\n",
      "turn_left\n",
      "turn_left\n",
      "None\n",
      "move\n",
      "turn_left\n",
      "1\n",
      "move\n",
      "turn_left\n",
      "move\n",
      "turn_left\n",
      "turn_left\n",
      "turn_left\n",
      "None\n",
      "move\n",
      "turn_left\n",
      "turn_left\n",
      "turn_left\n",
      "None\n",
      "move\n",
      "turn_left\n",
      "0\n"
     ]
    }
   ],
   "source": [
    "number_of_hudles = 6\n",
    "while number_of_hudles > 0:\n",
    "    jump()\n",
    "    number_of_hudles -= 1\n",
    "    print(number_of_hudles)"
   ]
  },
  {
   "cell_type": "code",
   "execution_count": null,
   "metadata": {},
   "outputs": [],
   "source": [
    "while not at_goal():\n",
    "    if wall_in_front():\n",
    "        jump()\n",
    "    else:\n",
    "        move()"
   ]
  },
  {
   "cell_type": "markdown",
   "metadata": {},
   "source": [
    "### Jumper over Hurdles with variables height"
   ]
  },
  {
   "cell_type": "markdown",
   "metadata": {},
   "source": [
    "this code can run on this link (https://reeborg.ca/reeborg.html?lang=en&mode=python&menu=worlds%2Fmenus%2Freeborg_intro_en.json&name=Maze&url=worlds%2Ftutorial_en%2Fmaze1.json)"
   ]
  },
  {
   "cell_type": "code",
   "execution_count": 11,
   "metadata": {},
   "outputs": [],
   "source": [
    "def turn_right():\n",
    "    turn_left()\n",
    "    turn_left()\n",
    "    turn_left()"
   ]
  },
  {
   "cell_type": "code",
   "execution_count": 12,
   "metadata": {},
   "outputs": [],
   "source": [
    "def jump():\n",
    "    turn_left()\n",
    "    while wall_on_right():\n",
    "        move()\n",
    "    turn_right()\n",
    "    move()\n",
    "    turn_right()\n",
    "    while front_is_clear():\n",
    "        move()\n",
    "    turn_left()"
   ]
  },
  {
   "cell_type": "code",
   "execution_count": null,
   "metadata": {},
   "outputs": [],
   "source": [
    "while not at_goal():\n",
    "    if wall_in_front():\n",
    "        jump()\n",
    "    else:\n",
    "        move()"
   ]
  },
  {
   "cell_type": "markdown",
   "metadata": {},
   "source": [
    "### **Project: Escaping the Maze**"
   ]
  },
  {
   "cell_type": "markdown",
   "metadata": {},
   "source": []
  }
 ],
 "metadata": {
  "kernelspec": {
   "display_name": "new_venv",
   "language": "python",
   "name": "python3"
  },
  "language_info": {
   "codemirror_mode": {
    "name": "ipython",
    "version": 3
   },
   "file_extension": ".py",
   "mimetype": "text/x-python",
   "name": "python",
   "nbconvert_exporter": "python",
   "pygments_lexer": "ipython3",
   "version": "3.9.6"
  }
 },
 "nbformat": 4,
 "nbformat_minor": 2
}
