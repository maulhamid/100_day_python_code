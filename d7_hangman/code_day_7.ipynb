{
 "cells": [
  {
   "cell_type": "markdown",
   "metadata": {},
   "source": [
    "### Challenge 1: Picking a random word and checking answers"
   ]
  },
  {
   "cell_type": "code",
   "execution_count": 1,
   "metadata": {},
   "outputs": [
    {
     "name": "stdout",
     "output_type": "stream",
     "text": [
      "Right\n",
      "Wrong!\n",
      "Wrong!\n",
      "Wrong!\n",
      "Right\n",
      "Wrong!\n",
      "Wrong!\n"
     ]
    }
   ],
   "source": [
    "#step 1\n",
    "word_list = ['ardvark', 'baboon', 'camel']\n",
    "\n",
    "#TODO-1 Randomly choose a word from the word_list and assign it to a variabel called chosen_word.\n",
    "import random\n",
    "\n",
    "chosen_word = random.choice(word_list)\n",
    "\n",
    "#TODO-2 Ask the user to guess a letter and assign their answer to a variable called guess. Make guess lowercase.\n",
    "\n",
    "guess = input('Guess a letter: ').lower()\n",
    "\n",
    "#TODO-3 Check if the letter the user guessed (guess) is one of the letters in the chosen_word\n",
    "\n",
    "for letter in chosen_word:\n",
    "    if letter == guess:\n",
    "        print('Right')\n",
    "    else:\n",
    "        print('Wrong!')"
   ]
  },
  {
   "cell_type": "markdown",
   "metadata": {},
   "source": [
    "### Challenge 2: Replacing blank with Guessess"
   ]
  },
  {
   "cell_type": "code",
   "execution_count": 12,
   "metadata": {},
   "outputs": [
    {
     "name": "stdout",
     "output_type": "stream",
     "text": [
      "Pssst, the solution is ardvark.\n",
      "['_', '_', '_', '_', '_', '_', '_']\n",
      "['a', '_', '_', '_', 'a', '_', '_']\n"
     ]
    }
   ],
   "source": [
    "#step 2\n",
    "\n",
    "import random\n",
    "word_list = ['ardvark', 'baboon', 'camel']\n",
    "chosen_word = random.choice(word_list)\n",
    "\n",
    "#Testing code\n",
    "print(f'Pssst, the solution is {chosen_word}.')\n",
    "\n",
    "#TODO-1 create an empty List called display.\n",
    "#for each letter in the chosen_word, add a \"_\" to 'display'.\n",
    "#so if the chosen_word was 'apple', display should be ['_', '_', '_', '_', '_'] with 5 '_' representing each letter to guess.\n",
    "display = []\n",
    "word_length = len(chosen_word)\n",
    "for _ in range(word_length):\n",
    "    display += '_'\n",
    "print(display)\n",
    "\n",
    "guess = input('Guess a letter: ').lower()\n",
    "\n",
    "#TODO-2 Loop through each position in the chosen_word;\n",
    "#if the letter at that position matches 'guess' then reveal that letter in the display at that position.\n",
    "#e.g if the user guessed 'p' and the chosen_word was 'apple', then display should be ['_', 'p', 'p', '_', '_'].\n",
    "\n",
    "for position in range(word_length):\n",
    "    letter = chosen_word[position]\n",
    "    if letter == guess:\n",
    "        display[position] = letter\n",
    "\n",
    "\n",
    "#TODO-3 Print 'display' and you should see the guessed letter in the correct position and every other letter replace with '_'.\n",
    "#hint don't worry about getting the user to guess the next letter. We'll tackle that in step 3.\n",
    "print(display)\n"
   ]
  },
  {
   "cell_type": "markdown",
   "metadata": {},
   "source": [
    "### Challenge 3: Checking if the player has won!"
   ]
  },
  {
   "cell_type": "code",
   "execution_count": 3,
   "metadata": {},
   "outputs": [
    {
     "name": "stdout",
     "output_type": "stream",
     "text": [
      "Pssst, the solution is aardvark.\n",
      "['a', 'a', '_', '_', '_', 'a', '_', '_']\n",
      "['a', 'a', '_', 'd', '_', 'a', '_', '_']\n",
      "['a', 'a', 'r', 'd', '_', 'a', 'r', '_']\n",
      "['a', 'a', 'r', 'd', 'v', 'a', 'r', '_']\n",
      "['a', 'a', 'r', 'd', 'v', 'a', 'r', '_']\n",
      "['a', 'a', 'r', 'd', 'v', 'a', 'r', 'k']\n",
      "You WIN!\n"
     ]
    }
   ],
   "source": [
    "#step 3\n",
    "\n",
    "import random\n",
    "word_list = ['aardvark', 'baboon', 'camel']\n",
    "chosen_word = random.choice(word_list)\n",
    "word_length = len(chosen_word)\n",
    "\n",
    "#Testing code\n",
    "print(f'Pssst, the solution is {chosen_word}.')\n",
    "\n",
    "#create blanks\n",
    "display = []\n",
    "for _ in range(word_length):\n",
    "    display += '_'\n",
    "\n",
    "#TODO-1 Use a while loop to let the user guess again. The loop should only stop once the user has guessed all the letters in the chose_word and 'display' has no more blanks ('_'). Then you can tell the user they've won.\n",
    "end_of_game = False\n",
    "\n",
    "while not end_of_game:\n",
    "    guess = input('Guess a letter: ').lower()\n",
    "\n",
    "    #check guessed letter\n",
    "    for position in range(word_length):\n",
    "        letter = chosen_word[position]\n",
    "        #print('Current position: {position}\\n Current letter: {letter}\\n Guessed letter: {guessed}')\n",
    "        if letter == guess:\n",
    "            display[position] = letter\n",
    "\n",
    "    print(display)\n",
    "\n",
    "\n",
    "    if '_' not in display:\n",
    "        end_of_game = True\n",
    "        print('You WIN!')"
   ]
  },
  {
   "cell_type": "code",
   "execution_count": null,
   "metadata": {},
   "outputs": [],
   "source": []
  }
 ],
 "metadata": {
  "kernelspec": {
   "display_name": "new_venv",
   "language": "python",
   "name": "python3"
  },
  "language_info": {
   "codemirror_mode": {
    "name": "ipython",
    "version": 3
   },
   "file_extension": ".py",
   "mimetype": "text/x-python",
   "name": "python",
   "nbconvert_exporter": "python",
   "pygments_lexer": "ipython3",
   "version": "3.9.6"
  }
 },
 "nbformat": 4,
 "nbformat_minor": 2
}
